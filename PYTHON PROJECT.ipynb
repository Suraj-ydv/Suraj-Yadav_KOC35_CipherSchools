{
 "cells": [
  {
   "cell_type": "code",
   "execution_count": 1,
   "id": "325f2403",
   "metadata": {},
   "outputs": [
    {
     "name": "stdout",
     "output_type": "stream",
     "text": [
      "6\n",
      "y y y\n"
     ]
    }
   ],
   "source": [
    "def cake(N):\n",
    "    if 360 % N == 0:\n",
    "        a = 'y'\n",
    "    else:\n",
    "        a = 'n'\n",
    "        \n",
    "    if N > 360:\n",
    "        b = 'n'\n",
    "    else:\n",
    "        b = 'y'\n",
    "        \n",
    "    if N > 26:\n",
    "        c = 'n'\n",
    "    else:\n",
    "        c = 'y'\n",
    "        \n",
    "    return f'{a} {b} {c}'\n",
    "        \n",
    "        \n",
    "\n",
    "\n",
    "N = int(input())\n",
    "print(cake(N))"
   ]
  }
 ],
 "metadata": {
  "kernelspec": {
   "display_name": "Python 3 (ipykernel)",
   "language": "python",
   "name": "python3"
  },
  "language_info": {
   "codemirror_mode": {
    "name": "ipython",
    "version": 3
   },
   "file_extension": ".py",
   "mimetype": "text/x-python",
   "name": "python",
   "nbconvert_exporter": "python",
   "pygments_lexer": "ipython3",
   "version": "3.9.12"
  }
 },
 "nbformat": 4,
 "nbformat_minor": 5
}
